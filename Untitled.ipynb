{
 "cells": [
  {
   "cell_type": "code",
   "execution_count": 1,
   "metadata": {
    "collapsed": false,
    "deletable": true,
    "editable": true
   },
   "outputs": [
    {
     "name": "stdout",
     "output_type": "stream",
     "text": [
      " Air Cargo Problem 1 , breadth_first_search                        ,43        ,56        ,180       ,6         ,0.028488063006079756     \n",
      " Air Cargo Problem 1 , depth_first_graph_search                    ,21        ,22        ,84        ,20        ,0.012687484006164595     \n",
      " Air Cargo Problem 1 , uniform_cost_search                         ,55        ,57        ,224       ,6         ,0.03543071101012174      \n",
      " Air Cargo Problem 1 , astar_search with h_1                       ,55        ,57        ,224       ,6         ,0.03374632900522556      \n",
      " Air Cargo Problem 1 , astar_search with h_ignore_preconditions    ,41        ,43        ,170       ,6         ,0.03595334300189279      \n",
      " Air Cargo Problem 1 , astar_search with h_pg_levelsum             ,11        ,13        ,50        ,6         ,0.5109256110008573       \n",
      " Air Cargo Problem 2 , breadth_first_search                        ,3346      ,4612      ,30534     ,9         ,13.656927494012052       \n",
      " Air Cargo Problem 2 , depth_first_graph_search                    ,107       ,108       ,959       ,105       ,0.4334155219985405       \n",
      " Air Cargo Problem 2 , uniform_cost_search                         ,4853      ,4855      ,44041     ,9         ,12.516859684998053       \n",
      " Air Cargo Problem 2 , astar_search with h_1                       ,4853      ,4855      ,44041     ,9         ,11.95947886700742        \n",
      " Air Cargo Problem 2 , astar_search with h_ignore_preconditions    ,1450      ,1452      ,13303     ,9         ,4.468251256010262        \n",
      " Air Cargo Problem 2 , astar_search with h_pg_levelsum             ,86        ,88        ,841       ,9         ,52.7568545529939         \n",
      " Air Cargo Problem 3 , breadth_first_search                        ,14663     ,18098     ,129631    ,12        ,99.13383370300289        \n",
      " Air Cargo Problem 3 , depth_first_graph_search                    ,408       ,409       ,3364      ,392       ,1.6235770310013322       \n",
      " Air Cargo Problem 3 , uniform_cost_search                         ,18223     ,18225     ,159618    ,12        ,47.986658560999786       \n",
      " Air Cargo Problem 3 , astar_search with h_1                       ,18223     ,18225     ,159618    ,12        ,48.04088087900891        \n",
      " Air Cargo Problem 3 , astar_search with h_ignore_preconditions    ,5040      ,5042      ,44944     ,12        ,15.268930238002213       \n",
      " Air Cargo Problem 3 , astar_search with h_pg_levelsum             ,325       ,327       ,3002      ,12        ,239.13372556200193       \n"
     ]
    }
   ],
   "source": [
    "import re\n",
    "\n",
    "problemPattern = re.compile(\"Solving(?P<problem>.*)using(?P<algorithm>.*)\\.\\.\\.\")\n",
    "expansionPattern = re.compile(\"(?P<exp>\\d+)\\s+(?P<goal_tests>\\d+)\\s+(?P<new_nodes>\\d+)\\s+\")\n",
    "planPattern = re.compile(\"Plan length:\\s+(?P<plan_length>\\d+)\\s+Time elapsed in seconds:\\s+(?P<time_taken>\\d+\\.\\d+)\")\n",
    "\n",
    "results = {}\n",
    "with open(\"b.out\") as infile:\n",
    "    for line in infile:\n",
    "        mo = problemPattern.search(line)\n",
    "        if 'time_taken' in results:\n",
    "            res = \"{:10},{:45},{:10},{:10},{:10},{:10},{:25}\".format(results['problem'], \\\n",
    "                                                      results['algorithm'],\\\n",
    "                                                      results['exp'], \\\n",
    "                                                      results['goal_tests'], \\\n",
    "                                                      results['new_nodes'], \\\n",
    "                                                      results['plan_length'], \\\n",
    "                                                      results['time_taken']\n",
    "                                                     )\n",
    "            print (res)\n",
    "            results = {}\n",
    "        \n",
    "        if mo:\n",
    "            results['problem'] = mo.group(\"problem\")\n",
    "            results['algorithm'] = mo.group(\"algorithm\")\n",
    "        else :\n",
    "            mo = expansionPattern.search(line) \n",
    "            if mo:    \n",
    "                results['exp'] = mo.group(\"exp\")\n",
    "                results['goal_tests'] = mo.group(\"goal_tests\")\n",
    "                results['new_nodes'] = mo.group(\"new_nodes\")\n",
    "            else:\n",
    "                mo = planPattern.search(line)\n",
    "                if mo:\n",
    "                    results[\"plan_length\"] = mo.group(\"plan_length\")\n",
    "                    results[\"time_taken\"] = mo.group(\"time_taken\")\n",
    "                    \n",
    "        \n",
    "                    \n",
    "            "
   ]
  },
  {
   "cell_type": "code",
   "execution_count": null,
   "metadata": {
    "collapsed": false,
    "deletable": true,
    "editable": true
   },
   "outputs": [],
   "source": []
  },
  {
   "cell_type": "code",
   "execution_count": null,
   "metadata": {
    "collapsed": true,
    "deletable": true,
    "editable": true
   },
   "outputs": [],
   "source": []
  }
 ],
 "metadata": {
  "celltoolbar": "Raw Cell Format",
  "kernelspec": {
   "display_name": "Python 3",
   "language": "python",
   "name": "python3"
  },
  "language_info": {
   "codemirror_mode": {
    "name": "ipython",
    "version": 3
   },
   "file_extension": ".py",
   "mimetype": "text/x-python",
   "name": "python",
   "nbconvert_exporter": "python",
   "pygments_lexer": "ipython3",
   "version": "3.6.0"
  }
 },
 "nbformat": 4,
 "nbformat_minor": 2
}
