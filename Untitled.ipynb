{
 "cells": [
  {
   "cell_type": "code",
   "execution_count": 1,
   "metadata": {
    "collapsed": true,
    "deletable": true,
    "editable": true
   },
   "outputs": [],
   "source": [
    "import re\n",
    "\n",
    "problemPattern = re.compile(\"Solving(?P<problem>.*)using(?P<algorithm>.*)\\.\\.\\.\")\n",
    "expansionPattern = re.compile(\"(?P<exp>\\d+)\\s+(?P<goal_tests>\\d+)\\s+(?P<new_nodes>\\d+)\\s+\")\n",
    "planPattern = re.compile(\"Plan length:\\s+(?P<plan_length>\\d+)\\s+Time elapsed in seconds:\\s+(?P<time_taken>\\d+\\.\\d+)\")\n",
    "\n",
    "results = {}\n",
    "with open(\"a.out\") as infile:\n",
    "    for line in infile:\n",
    "        mo = problemPattern.search(line)\n",
    "        if 'time_taken' in results:\n",
    "            res = \"{:10},{:45},{:10},{:10},{:10},{:10},{:25}\".format(results['problem'], \\\n",
    "                                                      results['algorithm'],\\\n",
    "                                                      results['exp'], \\\n",
    "                                                      results['goal_tests'], \\\n",
    "                                                      results['new_nodes'], \\\n",
    "                                                      results['plan_length'], \\\n",
    "                                                      results['time_taken']\n",
    "                                                     )\n",
    "            print (res)\n",
    "            results = {}\n",
    "        \n",
    "        if mo:\n",
    "            results['problem'] = mo.group(\"problem\")\n",
    "            results['algorithm'] = mo.group(\"algorithm\")\n",
    "        else :\n",
    "            mo = expansionPattern.search(line) \n",
    "            if mo:    \n",
    "                results['exp'] = mo.group(\"exp\")\n",
    "                results['goal_tests'] = mo.group(\"goal_tests\")\n",
    "                results['new_nodes'] = mo.group(\"new_nodes\")\n",
    "            else:\n",
    "                mo = planPattern.search(line)\n",
    "                if mo:\n",
    "                    results[\"plan_length\"] = mo.group(\"plan_length\")\n",
    "                    results[\"time_taken\"] = mo.group(\"time_taken\")\n",
    "                    \n",
    "        \n",
    "                    \n",
    "            "
   ]
  },
  {
   "cell_type": "code",
   "execution_count": 2,
   "metadata": {
    "collapsed": false,
    "deletable": true,
    "editable": true
   },
   "outputs": [],
   "source": [
    "import matplotlib.pyplot as plt"
   ]
  },
  {
   "cell_type": "code",
   "execution_count": null,
   "metadata": {
    "collapsed": true
   },
   "outputs": [],
   "source": []
  }
 ],
 "metadata": {
  "kernelspec": {
   "display_name": "Python 3",
   "language": "python",
   "name": "python3"
  },
  "language_info": {
   "codemirror_mode": {
    "name": "ipython",
    "version": 3
   },
   "file_extension": ".py",
   "mimetype": "text/x-python",
   "name": "python",
   "nbconvert_exporter": "python",
   "pygments_lexer": "ipython3",
   "version": "3.6.0"
  }
 },
 "nbformat": 4,
 "nbformat_minor": 2
}
